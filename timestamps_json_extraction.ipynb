{
 "cells": [
  {
   "cell_type": "code",
   "execution_count": 49,
   "id": "49192679",
   "metadata": {},
   "outputs": [],
   "source": [
    "import trodes.read_exported as tr\n",
    "import os\n",
    "import json\n",
    "import numpy as np"
   ]
  },
  {
   "cell_type": "code",
   "execution_count": null,
   "id": "94e31108",
   "metadata": {},
   "outputs": [],
   "source": [
    "# insert path to folder with videoTimestamps files and merged.time folders for each recording\n",
    "path = r\"C:\\Users\\megha\\UFL Dropbox\\Meghan Cum\\Padilla-Coreano Lab\\2024\\Cum_SocialMemEphys_pilot2\\Object_control_ephys\\timestamps\"\n"
   ]
  },
  {
   "cell_type": "code",
   "execution_count": null,
   "id": "b65c15d2",
   "metadata": {},
   "outputs": [
    {
     "name": "stdout",
     "output_type": "stream",
     "text": [
      "{'20250618_113931': 1959619, '20250618_123431': 1665815, '20250618_133349': 2437744, '20250618_143034': 1243125}\n"
     ]
    }
   ],
   "source": [
    "# use this cell to extract first timestamp from each recording \n",
    "# find a similar pattern between merged.time folder names and videotimestamps file names\n",
    "# in this case the date is the smae across both file types\n",
    "\n",
    "# side note: first timestamp per recording in a recording session are the same \n",
    "# ei if you recorded from 4 headstages at the same time (all in the same rec folder)\n",
    "# each one will have the same first timestamp \n",
    "\n",
    "first_timestamp_dict = {}\n",
    "for root, dirs, files in os.walk(path):\n",
    "    for file in files:\n",
    "        if file.endswith(\".dat\"):\n",
    "            ts_file = os.path.join(root, file)\n",
    "            ts_dict = tr.read_trodes_extracted_data_file(ts_file)\n",
    "            first_timestamp = ts_dict['first_timestamp']\n",
    "            file_parts = file.split('_')\n",
    "            file_pattern = file_parts[0] + '_' + file_parts[1]\n",
    "            first_timestamp_dict[file_pattern] = int(first_timestamp)\n",
    "\n",
    "print(first_timestamp_dict)"
   ]
  },
  {
   "cell_type": "code",
   "execution_count": null,
   "id": "fd5ba6ae",
   "metadata": {},
   "outputs": [],
   "source": [
    "# this cell will create a dictionary with three items under each merged.rec file name\n",
    "# stream_indexed_array: camera module timestamps in seconds where the 0th second is at stream\n",
    "# play_indexed_array: camera module timestamps in seconds where the 0th second is at play (when you clicked play in trodes)\n",
    "# first_timestamp: the timestamp in 20KHz of when you clicked play, where the 0th timestamp is at stream\n",
    "\n",
    "play_indexed_dict = {}\n",
    "for root, dirs, files in os.walk(path):\n",
    "    for file in files:\n",
    "        if file.endswith(\".videoTimeStamps\"):\n",
    "            play_indexed_dict[file] = {}\n",
    "            videotsfile = os.path.join(root, file)\n",
    "            videotsarray = tr.readCameraModuleTimeStamps(videotsfile)\n",
    "            date = file.split('_')[0] + '_' + file.split('_')[1]\n",
    "            first_ts = first_timestamp_dict[date]\n",
    "            videotsarray_play_indexed = videotsarray - first_ts/20000\n",
    "            if videotsarray_play_indexed[0] < 0:\n",
    "                if abs(videotsarray_play_indexed[0]) < .001:\n",
    "                    videotsarray_play_indexed[0] = 0\n",
    "                else:\n",
    "                    print('negative first timestamp: ', videotsarray_play_indexed[0])\n",
    "            play_indexed_dict[file]['play_indexed_array'] = videotsarray_play_indexed\n",
    "            play_indexed_dict[file]['first_timestamp'] = first_ts\n",
    "            play_indexed_dict[file]['stream_indexed_array'] =  videotsarray \n",
    "\n",
    "\n"
   ]
  },
  {
   "cell_type": "code",
   "execution_count": null,
   "id": "c87435fa",
   "metadata": {},
   "outputs": [],
   "source": [
    "# this function saves the dictionary to a json to be used later when creating an event dict\n",
    "# that is accurately aligned to the neural data timestamps\n",
    "\n",
    "def convert_numpy_to_list(obj):\n",
    "    if isinstance(obj, np.ndarray):\n",
    "        return obj.tolist()\n",
    "    elif isinstance(obj, dict):\n",
    "        return {key: convert_numpy_to_list(value) for key, value in obj.items()}\n",
    "    elif isinstance(obj, list):\n",
    "        return [convert_numpy_to_list(item) for item in obj]\n",
    "    else:\n",
    "        return obj\n",
    "\n",
    "# Convert the dictionary for JSON serialization\n",
    "json_compatible_dict = convert_numpy_to_list(play_indexed_dict)\n",
    "\n",
    "# Save to JSON file\n",
    "output_filename = 'eli_object_control_play_indexed_timestamps.json'\n",
    "with open(output_filename, 'w') as f:\n",
    "    json.dump(json_compatible_dict, f, indent=2)"
   ]
  },
  {
   "cell_type": "code",
   "execution_count": null,
   "id": "b11dfd82",
   "metadata": {},
   "outputs": [],
   "source": []
  }
 ],
 "metadata": {
  "kernelspec": {
   "display_name": "Python 3 (ipykernel)",
   "language": "python",
   "name": "python3"
  },
  "language_info": {
   "codemirror_mode": {
    "name": "ipython",
    "version": 3
   },
   "file_extension": ".py",
   "mimetype": "text/x-python",
   "name": "python",
   "nbconvert_exporter": "python",
   "pygments_lexer": "ipython3",
   "version": "3.10.12"
  }
 },
 "nbformat": 4,
 "nbformat_minor": 5
}
